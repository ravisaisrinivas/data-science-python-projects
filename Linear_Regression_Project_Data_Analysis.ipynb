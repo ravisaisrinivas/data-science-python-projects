{
 "cells": [
  {
   "cell_type": "code",
   "execution_count": 3,
   "metadata": {},
   "outputs": [],
   "source": [
    "from sklearn.metrics import roc_curve, auc"
   ]
  },
  {
   "cell_type": "code",
   "execution_count": 4,
   "metadata": {},
   "outputs": [],
   "source": [
    "# imports\n",
    "import pandas as pd"
   ]
  },
  {
   "cell_type": "code",
   "execution_count": 5,
   "metadata": {},
   "outputs": [],
   "source": [
    "import matplotlib as mpl"
   ]
  },
  {
   "cell_type": "code",
   "execution_count": 6,
   "metadata": {},
   "outputs": [],
   "source": [
    "import matplotlib.pyplot as plt\n",
    "import random"
   ]
  },
  {
   "cell_type": "code",
   "execution_count": 7,
   "metadata": {},
   "outputs": [],
   "source": [
    "from statsmodels.regression.linear_model import OLS\n",
    "from statsmodels.tools import add_constant\n",
    "\n"
   ]
  },
  {
   "cell_type": "code",
   "execution_count": 8,
   "metadata": {},
   "outputs": [
    {
     "name": "stdout",
     "output_type": "stream",
     "text": [
      "(1599, 12)\n"
     ]
    }
   ],
   "source": [
    "# Load CSV using Pandas\n",
    "filename = 'winequality-red.csv'\n",
    "\n",
    "data1 = pd.read_csv(filename,';')\n",
    "print(data1.shape)"
   ]
  },
  {
   "cell_type": "code",
   "execution_count": 9,
   "metadata": {},
   "outputs": [],
   "source": [
    "data1.columns=['FA',\n",
    " 'VA',\n",
    " 'CA',\n",
    " 'RSR',\n",
    " 'CS',\n",
    " 'FSD',\n",
    " 'TSD',\n",
    " 'DY',\n",
    " 'PH',\n",
    " 'SS',\n",
    " 'AL',\n",
    " 'quality']"
   ]
  },
  {
   "cell_type": "code",
   "execution_count": 10,
   "metadata": {
    "scrolled": true
   },
   "outputs": [
    {
     "data": {
      "text/html": [
       "<div>\n",
       "<style>\n",
       "    .dataframe thead tr:only-child th {\n",
       "        text-align: right;\n",
       "    }\n",
       "\n",
       "    .dataframe thead th {\n",
       "        text-align: left;\n",
       "    }\n",
       "\n",
       "    .dataframe tbody tr th {\n",
       "        vertical-align: top;\n",
       "    }\n",
       "</style>\n",
       "<table border=\"1\" class=\"dataframe\">\n",
       "  <thead>\n",
       "    <tr style=\"text-align: right;\">\n",
       "      <th></th>\n",
       "      <th>FA</th>\n",
       "      <th>VA</th>\n",
       "      <th>CA</th>\n",
       "      <th>RSR</th>\n",
       "      <th>CS</th>\n",
       "      <th>FSD</th>\n",
       "      <th>TSD</th>\n",
       "      <th>DY</th>\n",
       "      <th>PH</th>\n",
       "      <th>SS</th>\n",
       "      <th>AL</th>\n",
       "      <th>quality</th>\n",
       "    </tr>\n",
       "  </thead>\n",
       "  <tbody>\n",
       "    <tr>\n",
       "      <th>0</th>\n",
       "      <td>7.4</td>\n",
       "      <td>0.70</td>\n",
       "      <td>0.00</td>\n",
       "      <td>1.9</td>\n",
       "      <td>0.076</td>\n",
       "      <td>11.0</td>\n",
       "      <td>34.0</td>\n",
       "      <td>0.9978</td>\n",
       "      <td>3.51</td>\n",
       "      <td>0.56</td>\n",
       "      <td>9.4</td>\n",
       "      <td>5</td>\n",
       "    </tr>\n",
       "    <tr>\n",
       "      <th>1</th>\n",
       "      <td>7.8</td>\n",
       "      <td>0.88</td>\n",
       "      <td>0.00</td>\n",
       "      <td>2.6</td>\n",
       "      <td>0.098</td>\n",
       "      <td>25.0</td>\n",
       "      <td>67.0</td>\n",
       "      <td>0.9968</td>\n",
       "      <td>3.20</td>\n",
       "      <td>0.68</td>\n",
       "      <td>9.8</td>\n",
       "      <td>5</td>\n",
       "    </tr>\n",
       "    <tr>\n",
       "      <th>2</th>\n",
       "      <td>7.8</td>\n",
       "      <td>0.76</td>\n",
       "      <td>0.04</td>\n",
       "      <td>2.3</td>\n",
       "      <td>0.092</td>\n",
       "      <td>15.0</td>\n",
       "      <td>54.0</td>\n",
       "      <td>0.9970</td>\n",
       "      <td>3.26</td>\n",
       "      <td>0.65</td>\n",
       "      <td>9.8</td>\n",
       "      <td>5</td>\n",
       "    </tr>\n",
       "    <tr>\n",
       "      <th>3</th>\n",
       "      <td>11.2</td>\n",
       "      <td>0.28</td>\n",
       "      <td>0.56</td>\n",
       "      <td>1.9</td>\n",
       "      <td>0.075</td>\n",
       "      <td>17.0</td>\n",
       "      <td>60.0</td>\n",
       "      <td>0.9980</td>\n",
       "      <td>3.16</td>\n",
       "      <td>0.58</td>\n",
       "      <td>9.8</td>\n",
       "      <td>6</td>\n",
       "    </tr>\n",
       "    <tr>\n",
       "      <th>4</th>\n",
       "      <td>7.4</td>\n",
       "      <td>0.70</td>\n",
       "      <td>0.00</td>\n",
       "      <td>1.9</td>\n",
       "      <td>0.076</td>\n",
       "      <td>11.0</td>\n",
       "      <td>34.0</td>\n",
       "      <td>0.9978</td>\n",
       "      <td>3.51</td>\n",
       "      <td>0.56</td>\n",
       "      <td>9.4</td>\n",
       "      <td>5</td>\n",
       "    </tr>\n",
       "    <tr>\n",
       "      <th>5</th>\n",
       "      <td>7.4</td>\n",
       "      <td>0.66</td>\n",
       "      <td>0.00</td>\n",
       "      <td>1.8</td>\n",
       "      <td>0.075</td>\n",
       "      <td>13.0</td>\n",
       "      <td>40.0</td>\n",
       "      <td>0.9978</td>\n",
       "      <td>3.51</td>\n",
       "      <td>0.56</td>\n",
       "      <td>9.4</td>\n",
       "      <td>5</td>\n",
       "    </tr>\n",
       "    <tr>\n",
       "      <th>6</th>\n",
       "      <td>7.9</td>\n",
       "      <td>0.60</td>\n",
       "      <td>0.06</td>\n",
       "      <td>1.6</td>\n",
       "      <td>0.069</td>\n",
       "      <td>15.0</td>\n",
       "      <td>59.0</td>\n",
       "      <td>0.9964</td>\n",
       "      <td>3.30</td>\n",
       "      <td>0.46</td>\n",
       "      <td>9.4</td>\n",
       "      <td>5</td>\n",
       "    </tr>\n",
       "    <tr>\n",
       "      <th>7</th>\n",
       "      <td>7.3</td>\n",
       "      <td>0.65</td>\n",
       "      <td>0.00</td>\n",
       "      <td>1.2</td>\n",
       "      <td>0.065</td>\n",
       "      <td>15.0</td>\n",
       "      <td>21.0</td>\n",
       "      <td>0.9946</td>\n",
       "      <td>3.39</td>\n",
       "      <td>0.47</td>\n",
       "      <td>10.0</td>\n",
       "      <td>7</td>\n",
       "    </tr>\n",
       "    <tr>\n",
       "      <th>8</th>\n",
       "      <td>7.8</td>\n",
       "      <td>0.58</td>\n",
       "      <td>0.02</td>\n",
       "      <td>2.0</td>\n",
       "      <td>0.073</td>\n",
       "      <td>9.0</td>\n",
       "      <td>18.0</td>\n",
       "      <td>0.9968</td>\n",
       "      <td>3.36</td>\n",
       "      <td>0.57</td>\n",
       "      <td>9.5</td>\n",
       "      <td>7</td>\n",
       "    </tr>\n",
       "    <tr>\n",
       "      <th>9</th>\n",
       "      <td>7.5</td>\n",
       "      <td>0.50</td>\n",
       "      <td>0.36</td>\n",
       "      <td>6.1</td>\n",
       "      <td>0.071</td>\n",
       "      <td>17.0</td>\n",
       "      <td>102.0</td>\n",
       "      <td>0.9978</td>\n",
       "      <td>3.35</td>\n",
       "      <td>0.80</td>\n",
       "      <td>10.5</td>\n",
       "      <td>5</td>\n",
       "    </tr>\n",
       "  </tbody>\n",
       "</table>\n",
       "</div>"
      ],
      "text/plain": [
       "     FA    VA    CA  RSR     CS   FSD    TSD      DY    PH    SS    AL  \\\n",
       "0   7.4  0.70  0.00  1.9  0.076  11.0   34.0  0.9978  3.51  0.56   9.4   \n",
       "1   7.8  0.88  0.00  2.6  0.098  25.0   67.0  0.9968  3.20  0.68   9.8   \n",
       "2   7.8  0.76  0.04  2.3  0.092  15.0   54.0  0.9970  3.26  0.65   9.8   \n",
       "3  11.2  0.28  0.56  1.9  0.075  17.0   60.0  0.9980  3.16  0.58   9.8   \n",
       "4   7.4  0.70  0.00  1.9  0.076  11.0   34.0  0.9978  3.51  0.56   9.4   \n",
       "5   7.4  0.66  0.00  1.8  0.075  13.0   40.0  0.9978  3.51  0.56   9.4   \n",
       "6   7.9  0.60  0.06  1.6  0.069  15.0   59.0  0.9964  3.30  0.46   9.4   \n",
       "7   7.3  0.65  0.00  1.2  0.065  15.0   21.0  0.9946  3.39  0.47  10.0   \n",
       "8   7.8  0.58  0.02  2.0  0.073   9.0   18.0  0.9968  3.36  0.57   9.5   \n",
       "9   7.5  0.50  0.36  6.1  0.071  17.0  102.0  0.9978  3.35  0.80  10.5   \n",
       "\n",
       "   quality  \n",
       "0        5  \n",
       "1        5  \n",
       "2        5  \n",
       "3        6  \n",
       "4        5  \n",
       "5        5  \n",
       "6        5  \n",
       "7        7  \n",
       "8        7  \n",
       "9        5  "
      ]
     },
     "execution_count": 10,
     "metadata": {},
     "output_type": "execute_result"
    }
   ],
   "source": [
    "#display the first 10 rows \n",
    "data1.head(10)"
   ]
  },
  {
   "cell_type": "code",
   "execution_count": 11,
   "metadata": {},
   "outputs": [
    {
     "data": {
      "text/plain": [
       "5.6360225140712945"
      ]
     },
     "execution_count": 11,
     "metadata": {},
     "output_type": "execute_result"
    }
   ],
   "source": [
    "#checking th mean of the quality\n",
    "data1[\"quality\"].mean()"
   ]
  },
  {
   "cell_type": "code",
   "execution_count": null,
   "metadata": {},
   "outputs": [],
   "source": []
  },
  {
   "cell_type": "code",
   "execution_count": 12,
   "metadata": {},
   "outputs": [],
   "source": [
    "#fitting the data1 to the quality with single variable \n",
    "import statsmodels.formula.api as smf\n",
    "\n",
    "lmdataFA=smf.ols(formula='quality ~ FA', data=data1).fit()\n",
    "lmdataVA=smf.ols(formula='quality ~ VA', data=data1).fit()\n",
    "lmdataCA=smf.ols(formula='quality ~ CA', data=data1).fit()\n",
    "lmdataRSR=smf.ols(formula='quality ~ RSR', data=data1).fit()\n",
    "lmdataCS=smf.ols(formula='quality ~ CS', data=data1).fit()\n",
    "lmdataFSD=smf.ols(formula='quality ~ FSD', data=data1).fit()\n",
    "lmdataTSD=smf.ols(formula='quality ~ TSD', data=data1).fit()\n",
    "lmdataDY=smf.ols(formula='quality ~ DY', data=data1).fit()\n",
    "lmdataPH=smf.ols(formula='quality ~ PH', data=data1).fit()\n",
    "lmdataSS=smf.ols(formula='quality ~ SS', data=data1).fit()\n",
    "lmdataAL=smf.ols(formula='quality ~ AL', data=data1).fit()\n",
    "\n"
   ]
  },
  {
   "cell_type": "code",
   "execution_count": 13,
   "metadata": {},
   "outputs": [
    {
     "name": "stdout",
     "output_type": "stream",
     "text": [
      "Intercept    5.157322\n",
      "FA           0.057539\n",
      "dtype: float64\n",
      "Intercept    6.565746\n",
      "VA          -1.761438\n",
      "dtype: float64\n",
      "Intercept    5.381725\n",
      "CA           0.938452\n",
      "dtype: float64\n",
      "Intercept    5.616055\n",
      "RSR          0.007865\n",
      "dtype: float64\n",
      "Intercept    5.829485\n",
      "CS          -2.211842\n",
      "dtype: float64\n",
      "Intercept    5.698107\n",
      "FSD         -0.003911\n",
      "dtype: float64\n",
      "Intercept    5.847179\n",
      "TSD         -0.004544\n",
      "dtype: float64\n",
      "Intercept    80.238538\n",
      "DY          -74.846014\n",
      "dtype: float64\n",
      "Intercept    6.635923\n",
      "PH          -0.301983\n",
      "dtype: float64\n",
      "Intercept    4.847750\n",
      "SS           1.197712\n",
      "dtype: float64\n",
      "Intercept    1.874975\n",
      "AL           0.360842\n",
      "dtype: float64\n"
     ]
    }
   ],
   "source": [
    "# printing the parameters of each model\n",
    "print(lmdataFA.params)\n",
    "print(lmdataVA.params)\n",
    "print(lmdataCA.params)\n",
    "print(lmdataRSR.params)\n",
    "print(lmdataCS.params)\n",
    "print(lmdataFSD.params)\n",
    "print(lmdataTSD.params)\n",
    "print(lmdataDY.params)\n",
    "print(lmdataPH.params)\n",
    "print(lmdataSS.params)\n",
    "print(lmdataAL.params)\n"
   ]
  },
  {
   "cell_type": "code",
   "execution_count": 14,
   "metadata": {},
   "outputs": [
    {
     "name": "stdout",
     "output_type": "stream",
     "text": [
      "0.0153888116477\n",
      "0.152535379725\n",
      "0.0512445152387\n",
      "0.000188557864039\n",
      "0.016616901193\n",
      "0.00256603613554\n",
      "0.0342621169607\n",
      "0.0305967362483\n",
      "0.00333291353051\n",
      "0.0632004913646\n",
      "0.226734368113\n"
     ]
    }
   ],
   "source": [
    "#printing the r-square of each of the models\n",
    "print(lmdataFA.rsquared)\n",
    "print(lmdataVA.rsquared)\n",
    "print(lmdataCA.rsquared)\n",
    "print(lmdataRSR.rsquared)\n",
    "print(lmdataCS.rsquared)\n",
    "print(lmdataFSD.rsquared)\n",
    "print(lmdataTSD.rsquared)\n",
    "print(lmdataDY.rsquared)\n",
    "print(lmdataPH.rsquared)\n",
    "print(lmdataSS.rsquared)\n",
    "print(lmdataAL.rsquared)"
   ]
  },
  {
   "cell_type": "code",
   "execution_count": 15,
   "metadata": {},
   "outputs": [
    {
     "name": "stdout",
     "output_type": "stream",
     "text": [
      "3832.47061075\n",
      "3592.62422735\n",
      "3773.15455307\n",
      "3856.96708725\n",
      "3830.47495919\n",
      "3853.16025456\n",
      "3801.52296381\n",
      "3807.58035221\n",
      "3851.93039009\n",
      "3752.87631975\n",
      "3446.11350948\n"
     ]
    }
   ],
   "source": [
    "#printing the aic values of each of the models\n",
    "print(lmdataFA.aic)\n",
    "print(lmdataVA.aic)\n",
    "print(lmdataCA.aic)\n",
    "print(lmdataRSR.aic)\n",
    "print(lmdataCS.aic)\n",
    "print(lmdataFSD.aic)\n",
    "print(lmdataTSD.aic)\n",
    "print(lmdataDY.aic)\n",
    "print(lmdataPH.aic)\n",
    "print(lmdataSS.aic)\n",
    "print(lmdataAL.aic)"
   ]
  },
  {
   "cell_type": "code",
   "execution_count": 16,
   "metadata": {},
   "outputs": [],
   "source": [
    "# adding the extra feature with low rsquare and high aic value\n",
    "import statsmodels.formula.api as smf\n",
    "\n",
    "bmdataFA=smf.ols(formula='quality ~ AL+FA', data=data1).fit()\n",
    "bmdataVA=smf.ols(formula='quality ~ AL+VA', data=data1).fit()\n",
    "bmdataCA=smf.ols(formula='quality ~ AL+CA', data=data1).fit()\n",
    "bmdataRSR=smf.ols(formula='quality ~AL+ RSR', data=data1).fit()\n",
    "bmdataCS=smf.ols(formula='quality ~ AL+CS', data=data1).fit()\n",
    "bmdataFSD=smf.ols(formula='quality ~ AL+FSD', data=data1).fit()\n",
    "bmdataTSD=smf.ols(formula='quality ~ AL+TSD', data=data1).fit()\n",
    "bmdataDY=smf.ols(formula='quality ~ AL+DY', data=data1).fit()\n",
    "bmdataPH=smf.ols(formula='quality ~ AL+PH', data=data1).fit()\n",
    "bmdataSS=smf.ols(formula='quality ~ AL+SS', data=data1).fit()\n",
    "\n",
    "\n"
   ]
  },
  {
   "cell_type": "code",
   "execution_count": 17,
   "metadata": {},
   "outputs": [
    {
     "name": "stdout",
     "output_type": "stream",
     "text": [
      "Intercept    1.205688\n",
      "AL           0.368039\n",
      "FA           0.071430\n",
      "dtype: float64\n",
      "Intercept    3.095471\n",
      "AL           0.313813\n",
      "VA          -1.383636\n",
      "dtype: float64\n",
      "Intercept    1.830003\n",
      "AL           0.346170\n",
      "CA           0.730324\n",
      "dtype: float64\n",
      "Intercept    1.882059\n",
      "AL           0.361043\n",
      "RSR         -0.003617\n",
      "dtype: float64\n",
      "Intercept    1.955580\n",
      "AL           0.356682\n",
      "CS          -0.425886\n",
      "dtype: float64\n",
      "Intercept    1.906357\n",
      "AL           0.359911\n",
      "FSD         -0.001366\n",
      "dtype: float64\n",
      "Intercept    2.126671\n",
      "AL           0.346656\n",
      "TSD         -0.002235\n",
      "dtype: float64\n",
      "Intercept   -33.152380\n",
      "AL            0.391441\n",
      "DY           34.821702\n",
      "dtype: float64\n",
      "Intercept    4.425814\n",
      "AL           0.386167\n",
      "PH          -0.850108\n",
      "dtype: float64\n",
      "Intercept    1.374967\n",
      "AL           0.346042\n",
      "SS           0.994095\n",
      "dtype: float64\n"
     ]
    }
   ],
   "source": [
    "#printing the parameters of bivariate model\n",
    "print(bmdataFA.params)\n",
    "print(bmdataVA.params)\n",
    "print(bmdataCA.params)\n",
    "print(bmdataRSR.params)\n",
    "print(bmdataCS.params)\n",
    "print(bmdataFSD.params)\n",
    "print(bmdataTSD.params)\n",
    "print(bmdataDY.params)\n",
    "print(bmdataPH.params)\n",
    "print(bmdataSS.params)\n",
    "\n",
    "\n"
   ]
  },
  {
   "cell_type": "code",
   "execution_count": 18,
   "metadata": {},
   "outputs": [
    {
     "name": "stdout",
     "output_type": "stream",
     "text": [
      "0.250360688361\n",
      "0.317002432797\n",
      "0.257394728455\n",
      "0.226774169774\n",
      "0.227320307137\n",
      "0.227045844706\n",
      "0.234669416319\n",
      "0.231726627166\n",
      "0.252029866297\n",
      "0.269891240173\n"
     ]
    }
   ],
   "source": [
    "#printing the r square model\n",
    "print(bmdataFA.rsquared)\n",
    "print(bmdataVA.rsquared)\n",
    "print(bmdataCA.rsquared)\n",
    "print(bmdataRSR.rsquared)\n",
    "print(bmdataCS.rsquared)\n",
    "print(bmdataFSD.rsquared)\n",
    "print(bmdataTSD.rsquared)\n",
    "print(bmdataDY.rsquared)\n",
    "print(bmdataPH.rsquared)\n",
    "print(bmdataSS.rsquared)\n"
   ]
  },
  {
   "cell_type": "code",
   "execution_count": 19,
   "metadata": {},
   "outputs": [
    {
     "name": "stdout",
     "output_type": "stream",
     "text": [
      "3398.4958133\n",
      "3249.62751353\n",
      "3383.42118874\n",
      "3448.03120336\n",
      "3446.90141416\n",
      "3447.46929178\n",
      "3431.62022235\n",
      "3437.75678142\n",
      "3394.93144392\n",
      "3356.28434968\n"
     ]
    }
   ],
   "source": [
    "#printing the bivariate aic values\n",
    "print(bmdataFA.aic)\n",
    "print(bmdataVA.aic)\n",
    "print(bmdataCA.aic)\n",
    "print(bmdataRSR.aic)\n",
    "print(bmdataCS.aic)\n",
    "print(bmdataFSD.aic)\n",
    "print(bmdataTSD.aic)\n",
    "print(bmdataDY.aic)\n",
    "print(bmdataPH.aic)\n",
    "print(bmdataSS.aic)\n"
   ]
  },
  {
   "cell_type": "code",
   "execution_count": 20,
   "metadata": {},
   "outputs": [],
   "source": [
    "#adding an extra feature\n",
    "import statsmodels.formula.api as smf\n",
    "\n",
    "tmdataFA=smf.ols(formula='quality ~ AL+VA+FA', data=data1).fit()\n",
    "tmdataCA=smf.ols(formula='quality ~ AL+VA+CA', data=data1).fit()\n",
    "tmdataRSR=smf.ols(formula='quality ~AL+VA+ RSR', data=data1).fit()\n",
    "tmdataCS=smf.ols(formula='quality ~ AL+VA+CS', data=data1).fit()\n",
    "tmdataFSD=smf.ols(formula='quality ~ AL+VA+FSD', data=data1).fit()\n",
    "tmdataTSD=smf.ols(formula='quality ~ AL+VA+TSD', data=data1).fit()\n",
    "tmdataDY=smf.ols(formula='quality ~ AL+VA+DY', data=data1).fit()\n",
    "tmdataPH=smf.ols(formula='quality ~ AL+VA+PH', data=data1).fit()\n",
    "tmdataSS=smf.ols(formula='quality ~ AL+VA+SS', data=data1).fit()\n",
    "\n",
    "\n"
   ]
  },
  {
   "cell_type": "code",
   "execution_count": 21,
   "metadata": {},
   "outputs": [
    {
     "name": "stdout",
     "output_type": "stream",
     "text": [
      "Intercept    2.674469\n",
      "AL           0.320726\n",
      "VA          -1.286244\n",
      "FA           0.035763\n",
      "dtype: float64\n",
      "Intercept    3.055327\n",
      "AL           0.313837\n",
      "VA          -1.342858\n",
      "CA           0.067794\n",
      "dtype: float64\n",
      "Intercept    3.098825\n",
      "AL           0.313917\n",
      "VA          -1.383483\n",
      "RSR         -0.001781\n",
      "dtype: float64\n",
      "Intercept    3.157406\n",
      "AL           0.310599\n",
      "VA          -1.382118\n",
      "CS          -0.334311\n",
      "dtype: float64\n",
      "Intercept    3.142876\n",
      "AL           0.312384\n",
      "VA          -1.386553\n",
      "FSD         -0.001951\n",
      "dtype: float64\n",
      "Intercept    3.305009\n",
      "AL           0.301797\n",
      "VA          -1.370525\n",
      "TSD         -0.001963\n",
      "dtype: float64\n",
      "Intercept   -18.406540\n",
      "AL            0.333207\n",
      "VA           -1.365245\n",
      "DY           21.359641\n",
      "dtype: float64\n",
      "Intercept    4.268812\n",
      "AL           0.329945\n",
      "VA          -1.278759\n",
      "PH          -0.421865\n",
      "dtype: float64\n",
      "Intercept    2.610832\n",
      "AL           0.309218\n",
      "VA          -1.221404\n",
      "SS           0.679028\n",
      "dtype: float64\n"
     ]
    }
   ],
   "source": [
    "#printing parameters of 3 -feature model\n",
    "print(tmdataFA.params)\n",
    "print(tmdataCA.params)\n",
    "print(tmdataRSR.params)\n",
    "print(tmdataCS.params)\n",
    "print(tmdataFSD.params)\n",
    "print(tmdataTSD.params)\n",
    "print(tmdataDY.params)\n",
    "print(tmdataPH.params)\n",
    "print(tmdataSS.params)\n",
    "\n"
   ]
  },
  {
   "cell_type": "code",
   "execution_count": 22,
   "metadata": {},
   "outputs": [
    {
     "name": "stdout",
     "output_type": "stream",
     "text": [
      "0.322477669213\n",
      "0.317188225412\n",
      "0.31701208389\n",
      "0.317363374831\n",
      "0.317637713781\n",
      "0.323117623302\n",
      "0.318864872089\n",
      "0.322713162414\n",
      "0.335897315653\n"
     ]
    }
   ],
   "source": [
    "#printing r square of all the 3-feature models\n",
    "print(tmdataFA.rsquared)\n",
    "print(tmdataCA.rsquared)\n",
    "print(tmdataRSR.rsquared)\n",
    "print(tmdataCS.rsquared)\n",
    "print(tmdataFSD.rsquared)\n",
    "print(tmdataTSD.rsquared)\n",
    "print(tmdataDY.rsquared)\n",
    "print(tmdataPH.rsquared)\n",
    "print(tmdataSS.rsquared)\n"
   ]
  },
  {
   "cell_type": "code",
   "execution_count": 23,
   "metadata": {},
   "outputs": [
    {
     "name": "stdout",
     "output_type": "stream",
     "text": [
      "3238.75750655\n",
      "3251.19248591\n",
      "3251.60491871\n",
      "3250.78227059\n",
      "3250.1395331\n",
      "3237.24645648\n",
      "3247.26130738\n",
      "3238.20162954\n",
      "3206.76834402\n"
     ]
    }
   ],
   "source": [
    "#aic values\n",
    "print(tmdataFA.aic)\n",
    "print(tmdataCA.aic)\n",
    "print(tmdataRSR.aic)\n",
    "print(tmdataCS.aic)\n",
    "print(tmdataFSD.aic)\n",
    "print(tmdataTSD.aic)\n",
    "print(tmdataDY.aic)\n",
    "print(tmdataPH.aic)\n",
    "print(tmdataSS.aic)"
   ]
  },
  {
   "cell_type": "code",
   "execution_count": 24,
   "metadata": {},
   "outputs": [],
   "source": [
    "#adding an extra feature based on the lowest r-square value\n",
    "import statsmodels.formula.api as smf\n",
    "\n",
    "fmdataFA=smf.ols(formula='quality ~ AL+VA+SS+FA', data=data1).fit()\n",
    "fmdataCA=smf.ols(formula='quality ~ AL+VA+SS+CA', data=data1).fit()\n",
    "fmdataRSR=smf.ols(formula='quality ~AL+VA+SS+ RSR', data=data1).fit()\n",
    "fmdataCS=smf.ols(formula='quality ~ AL+VA+SS+CS', data=data1).fit()\n",
    "fmdataFSD=smf.ols(formula='quality ~ AL+VA+SS+FSD', data=data1).fit()\n",
    "fmdataTSD=smf.ols(formula='quality ~ AL+VA+SS+TSD', data=data1).fit()\n",
    "fmdataDY=smf.ols(formula='quality ~ AL+VA+SS+DY', data=data1).fit()\n",
    "fmdataPH=smf.ols(formula='quality ~ AL+VA+SS+PH', data=data1).fit()\n",
    "\n",
    "\n",
    "\n"
   ]
  },
  {
   "cell_type": "code",
   "execution_count": 25,
   "metadata": {},
   "outputs": [
    {
     "name": "stdout",
     "output_type": "stream",
     "text": [
      "Intercept    2.312792\n",
      "AL           0.314793\n",
      "VA          -1.155175\n",
      "SS           0.642221\n",
      "FA           0.027549\n",
      "dtype: float64\n",
      "Intercept    2.645918\n",
      "AL           0.309078\n",
      "VA          -1.265058\n",
      "SS           0.695516\n",
      "CA          -0.079125\n",
      "dtype: float64\n",
      "Intercept    2.614778\n",
      "AL           0.309342\n",
      "VA          -1.221203\n",
      "SS           0.679109\n",
      "RSR         -0.002126\n",
      "dtype: float64\n",
      "Intercept    2.776759\n",
      "AL           0.292088\n",
      "VA          -1.167459\n",
      "SS           0.873565\n",
      "CS          -1.645106\n",
      "dtype: float64\n",
      "Intercept    2.666149\n",
      "AL           0.307304\n",
      "VA          -1.223105\n",
      "SS           0.687762\n",
      "FSD         -0.002534\n",
      "dtype: float64\n",
      "Intercept    2.825813\n",
      "AL           0.295310\n",
      "VA          -1.198563\n",
      "SS           0.712140\n",
      "TSD         -0.002235\n",
      "dtype: float64\n",
      "Intercept   -4.819822\n",
      "AL           0.316035\n",
      "VA          -1.218743\n",
      "SS           0.663527\n",
      "DY           7.392444\n",
      "dtype: float64\n",
      "Intercept    3.492573\n",
      "AL           0.321208\n",
      "VA          -1.155835\n",
      "SS           0.635280\n",
      "PH          -0.305797\n",
      "dtype: float64\n"
     ]
    }
   ],
   "source": [
    "#printing the paramters of four feature model\n",
    "print(fmdataFA.params)\n",
    "print(fmdataCA.params)\n",
    "print(fmdataRSR.params)\n",
    "print(fmdataCS.params)\n",
    "print(fmdataFSD.params)\n",
    "print(fmdataTSD.params)\n",
    "print(fmdataDY.params)\n",
    "print(fmdataPH.params)\n",
    "\n",
    "\n"
   ]
  },
  {
   "cell_type": "code",
   "execution_count": 26,
   "metadata": {},
   "outputs": [
    {
     "name": "stdout",
     "output_type": "stream",
     "text": [
      "0.339090845082\n",
      "0.33613926635\n",
      "0.335911071296\n",
      "0.343086709932\n",
      "0.33696518852\n",
      "0.343782425784\n",
      "0.336110553787\n",
      "0.338819501046\n"
     ]
    }
   ],
   "source": [
    "# printing the rsquare values of the 4-feature model\n",
    "print(fmdataFA.rsquared)\n",
    "print(fmdataCA.rsquared)\n",
    "print(fmdataRSR.rsquared)\n",
    "print(fmdataCS.rsquared)\n",
    "print(fmdataFSD.rsquared)\n",
    "print(fmdataTSD.rsquared)\n",
    "print(fmdataDY.rsquared)\n",
    "print(fmdataPH.rsquared)\n",
    "\n"
   ]
  },
  {
   "cell_type": "code",
   "execution_count": 27,
   "metadata": {},
   "outputs": [
    {
     "name": "stdout",
     "output_type": "stream",
     "text": [
      "3201.06054354\n",
      "3208.18567862\n",
      "3208.73522339\n",
      "3191.36362648\n",
      "3206.19509281\n",
      "3189.66927935\n",
      "3208.25483529\n",
      "3201.71689709\n"
     ]
    }
   ],
   "source": [
    "#aic values\n",
    "print(fmdataFA.aic)\n",
    "print(fmdataCA.aic)\n",
    "print(fmdataRSR.aic)\n",
    "print(fmdataCS.aic)\n",
    "print(fmdataFSD.aic)\n",
    "print(fmdataTSD.aic)\n",
    "print(fmdataDY.aic)\n",
    "print(fmdataPH.aic)\n"
   ]
  },
  {
   "cell_type": "code",
   "execution_count": 28,
   "metadata": {},
   "outputs": [],
   "source": [
    "#5-feature model fitting by adding an extra feature\n",
    "import statsmodels.formula.api as smf\n",
    "\n",
    "vmdataFA=smf.ols(formula='quality ~ AL+VA+SS+TSD+FA', data=data1).fit()\n",
    "vmdataCA=smf.ols(formula='quality ~ AL+VA+SS+TSD+CA', data=data1).fit()\n",
    "vmdataRSR=smf.ols(formula='quality ~AL+VA+SS+TSD+ RSR', data=data1).fit()\n",
    "vmdataCS=smf.ols(formula='quality ~ AL+VA+SS+TSD+CS', data=data1).fit()\n",
    "vmdataFSD=smf.ols(formula='quality ~ AL+VA+SS+TSD+FSD', data=data1).fit()\n",
    "vmdataDY=smf.ols(formula='quality ~ AL+VA+SS+TSD+DY', data=data1).fit()\n",
    "vmdataPH=smf.ols(formula='quality ~ AL+VA+SS+TSD+PH', data=data1).fit()\n",
    "\n",
    "\n",
    "\n"
   ]
  },
  {
   "cell_type": "code",
   "execution_count": 29,
   "metadata": {},
   "outputs": [
    {
     "name": "stdout",
     "output_type": "stream",
     "text": [
      "Intercept    2.571841\n",
      "AL           0.300743\n",
      "VA          -1.146997\n",
      "SS           0.680322\n",
      "TSD         -0.002081\n",
      "FA           0.022105\n",
      "dtype: float64\n",
      "Intercept    2.843107\n",
      "AL           0.295342\n",
      "VA          -1.222310\n",
      "SS           0.720788\n",
      "TSD         -0.002218\n",
      "CA          -0.042725\n",
      "dtype: float64\n",
      "Intercept    2.817021\n",
      "AL           0.294214\n",
      "VA          -1.198540\n",
      "SS           0.713102\n",
      "TSD         -0.002324\n",
      "RSR          0.009336\n",
      "dtype: float64\n",
      "Intercept    3.004892\n",
      "AL           0.277098\n",
      "VA          -1.141902\n",
      "SS           0.914832\n",
      "TSD         -0.002310\n",
      "CS          -1.704787\n",
      "dtype: float64\n",
      "Intercept    2.822338\n",
      "AL           0.293061\n",
      "VA          -1.187670\n",
      "SS           0.711287\n",
      "TSD         -0.003054\n",
      "FSD          0.003765\n",
      "dtype: float64\n",
      "Intercept   -2.355402\n",
      "AL           0.300143\n",
      "VA          -1.196839\n",
      "SS           0.701143\n",
      "TSD         -0.002223\n",
      "DY           5.153343\n",
      "dtype: float64\n",
      "Intercept    3.748772\n",
      "AL           0.307587\n",
      "VA          -1.129817\n",
      "SS           0.667059\n",
      "TSD         -0.002272\n",
      "PH          -0.318879\n",
      "dtype: float64\n"
     ]
    }
   ],
   "source": [
    "#printing parameters\n",
    "print(vmdataFA.params)\n",
    "print(vmdataCA.params)\n",
    "print(vmdataRSR.params)\n",
    "print(vmdataCS.params)\n",
    "print(vmdataFSD.params)\n",
    "print(vmdataDY.params)\n",
    "print(vmdataPH.params)\n",
    "\n",
    "\n"
   ]
  },
  {
   "cell_type": "code",
   "execution_count": 30,
   "metadata": {},
   "outputs": [
    {
     "name": "stdout",
     "output_type": "stream",
     "text": [
      "0.345800976962\n",
      "0.343852503778\n",
      "0.344035160879\n",
      "0.351494238502\n",
      "0.345083252271\n",
      "0.343885791282\n",
      "0.34695788821\n"
     ]
    }
   ],
   "source": [
    "# printing the rsquare values\n",
    "print(vmdataFA.rsquared)\n",
    "print(vmdataCA.rsquared)\n",
    "print(vmdataRSR.rsquared)\n",
    "print(vmdataCS.rsquared)\n",
    "print(vmdataFSD.rsquared)\n",
    "print(vmdataDY.rsquared)\n",
    "print(vmdataPH.rsquared)\n",
    "\n"
   ]
  },
  {
   "cell_type": "code",
   "execution_count": 31,
   "metadata": {},
   "outputs": [
    {
     "name": "stdout",
     "output_type": "stream",
     "text": [
      "3186.74311176\n",
      "3191.49851176\n",
      "3191.05332319\n",
      "3172.76667862\n",
      "3188.49642025\n",
      "3191.41738965\n",
      "3183.91287407\n"
     ]
    }
   ],
   "source": [
    "#printing the aic values\n",
    "print(vmdataFA.aic)\n",
    "print(vmdataCA.aic)\n",
    "print(vmdataRSR.aic)\n",
    "print(vmdataCS.aic)\n",
    "print(vmdataFSD.aic)\n",
    "print(vmdataDY.aic)\n",
    "print(vmdataPH.aic)\n",
    "\n"
   ]
  },
  {
   "cell_type": "code",
   "execution_count": 32,
   "metadata": {},
   "outputs": [],
   "source": [
    "#six feature model\n",
    "import statsmodels.formula.api as smf\n",
    "\n",
    "smdataFA=smf.ols(formula='quality ~ AL+VA+SS+TSD+CS+FA', data=data1).fit()\n",
    "smdataCA=smf.ols(formula='quality ~ AL+VA+SS+TSD+CS+CA', data=data1).fit()\n",
    "smdataRSR=smf.ols(formula='quality ~AL+VA+SS+TSD+CS+ RSR', data=data1).fit()\n",
    "smdataFSD=smf.ols(formula='quality ~ AL+VA+SS+TSD+CS+FSD', data=data1).fit()\n",
    "smdataDY=smf.ols(formula='quality ~ AL+VA+SS+TSD+CS+DY', data=data1).fit()\n",
    "smdataPH=smf.ols(formula='quality ~ AL+VA+SS+TSD+CS+PH', data=data1).fit()\n",
    "\n",
    "\n",
    "\n"
   ]
  },
  {
   "cell_type": "code",
   "execution_count": 33,
   "metadata": {},
   "outputs": [
    {
     "name": "stdout",
     "output_type": "stream",
     "text": [
      "Intercept    2.736541\n",
      "AL           0.282560\n",
      "VA          -1.085621\n",
      "SS           0.884692\n",
      "TSD         -0.002146\n",
      "CS          -1.737688\n",
      "FA           0.023658\n",
      "dtype: float64\n",
      "Intercept    2.984530\n",
      "AL           0.276431\n",
      "VA          -1.103656\n",
      "SS           0.908496\n",
      "TSD         -0.002338\n",
      "CS          -1.762748\n",
      "CA           0.065345\n",
      "dtype: float64\n",
      "Intercept    2.995903\n",
      "AL           0.275118\n",
      "VA          -1.140669\n",
      "SS           0.920523\n",
      "TSD         -0.002440\n",
      "CS          -1.740881\n",
      "RSR          0.013573\n",
      "dtype: float64\n",
      "Intercept    3.000307\n",
      "AL           0.275075\n",
      "VA          -1.131880\n",
      "SS           0.912589\n",
      "TSD         -0.003092\n",
      "CS          -1.692779\n",
      "FSD          0.003602\n",
      "dtype: float64\n",
      "Intercept   -3.162450\n",
      "AL           0.282795\n",
      "VA          -1.139678\n",
      "SS           0.902356\n",
      "TSD         -0.002295\n",
      "CS          -1.709951\n",
      "DY           6.134706\n",
      "dtype: float64\n",
      "Intercept    4.295732\n",
      "AL           0.290674\n",
      "VA          -1.038195\n",
      "SS           0.888680\n",
      "TSD         -0.002372\n",
      "CS          -2.002284\n",
      "PH          -0.435183\n",
      "dtype: float64\n"
     ]
    }
   ],
   "source": [
    "#printing the parameters of these models\n",
    "print(smdataFA.params)\n",
    "print(smdataCA.params)\n",
    "print(smdataRSR.params)\n",
    "print(smdataFSD.params)\n",
    "print(smdataDY.params)\n",
    "print(smdataPH.params)\n",
    "\n",
    "\n"
   ]
  },
  {
   "cell_type": "code",
   "execution_count": 34,
   "metadata": {},
   "outputs": [
    {
     "name": "stdout",
     "output_type": "stream",
     "text": [
      "0.353803374576\n",
      "0.351649250286\n",
      "0.352024937791\n",
      "0.352684364619\n",
      "0.351640649965\n",
      "0.357173648009\n"
     ]
    }
   ],
   "source": [
    "# printing the rsquare values of each of the models\n",
    "print(smdataFA.rsquared)\n",
    "print(smdataCA.rsquared)\n",
    "print(smdataRSR.rsquared)\n",
    "print(smdataFSD.rsquared)\n",
    "print(smdataDY.rsquared)\n",
    "print(smdataPH.rsquared)\n",
    "\n"
   ]
  },
  {
   "cell_type": "code",
   "execution_count": 35,
   "metadata": {},
   "outputs": [
    {
     "name": "stdout",
     "output_type": "stream",
     "text": [
      "3169.06295468\n",
      "3174.38442532\n",
      "3173.45761458\n",
      "3171.82952663\n",
      "3174.40563578\n",
      "3160.70145983\n"
     ]
    }
   ],
   "source": [
    "#aic values\n",
    "\n",
    "print(smdataFA.aic)\n",
    "print(smdataCA.aic)\n",
    "print(smdataRSR.aic)\n",
    "print(smdataFSD.aic)\n",
    "print(smdataDY.aic)\n",
    "print(smdataPH.aic)\n",
    "\n"
   ]
  },
  {
   "cell_type": "code",
   "execution_count": 36,
   "metadata": {},
   "outputs": [],
   "source": [
    "#adding the 7th feature based on the r-square values of the 6 feature model\n",
    "import statsmodels.formula.api as smf\n",
    "\n",
    "nmdataFA=smf.ols(formula='quality ~ AL+VA+SS+TSD+CS+PH+FA', data=data1).fit()\n",
    "nmdataCA=smf.ols(formula='quality ~ AL+VA+SS+TSD+CS+PH+CA', data=data1).fit()\n",
    "nmdataRSR=smf.ols(formula='quality ~AL+VA+SS+TSD+CS+PH+ RSR', data=data1).fit()\n",
    "nmdataFSD=smf.ols(formula='quality ~ AL+VA+SS+TSD+CS+PH+FSD', data=data1).fit()\n",
    "nmdataDY=smf.ols(formula='quality ~ AL+VA+SS+TSD+CS+PH+DY', data=data1).fit()\n",
    "\n",
    "\n",
    "\n"
   ]
  },
  {
   "cell_type": "code",
   "execution_count": 37,
   "metadata": {},
   "outputs": [
    {
     "name": "stdout",
     "output_type": "stream",
     "text": [
      "Intercept    4.368150\n",
      "AL           0.290703\n",
      "VA          -1.039261\n",
      "SS           0.890359\n",
      "TSD         -0.002389\n",
      "CS          -2.010594\n",
      "PH          -0.451596\n",
      "FA          -0.002092\n",
      "dtype: float64\n",
      "Intercept    4.613483\n",
      "AL           0.295174\n",
      "VA          -1.114633\n",
      "SS           0.899497\n",
      "TSD         -0.002311\n",
      "CS          -1.915329\n",
      "PH          -0.524756\n",
      "CA          -0.167068\n",
      "dtype: float64\n",
      "Intercept    4.264430\n",
      "AL           0.288988\n",
      "VA          -1.039303\n",
      "SS           0.893276\n",
      "TSD         -0.002465\n",
      "CS          -2.022519\n",
      "PH          -0.426810\n",
      "RSR          0.009762\n",
      "dtype: float64\n",
      "Intercept    4.430099\n",
      "AL           0.289303\n",
      "VA          -1.012753\n",
      "SS           0.882665\n",
      "TSD         -0.003482\n",
      "CS          -2.017814\n",
      "PH          -0.482661\n",
      "FSD          0.005077\n",
      "dtype: float64\n",
      "Intercept    7.766191\n",
      "AL           0.287792\n",
      "VA          -1.037161\n",
      "SS           0.895070\n",
      "TSD         -0.002382\n",
      "CS          -2.005928\n",
      "PH          -0.444730\n",
      "DY          -3.423927\n",
      "dtype: float64\n"
     ]
    }
   ],
   "source": [
    "#printing the parameters\n",
    "print(nmdataFA.params)\n",
    "print(nmdataCA.params)\n",
    "print(nmdataRSR.params)\n",
    "print(nmdataFSD.params)\n",
    "print(nmdataDY.params)\n",
    "\n",
    "\n",
    "\n"
   ]
  },
  {
   "cell_type": "code",
   "execution_count": 38,
   "metadata": {},
   "outputs": [
    {
     "name": "stdout",
     "output_type": "stream",
     "text": [
      "0.357183630747\n",
      "0.357946316503\n",
      "0.357446060517\n",
      "0.359470915872\n",
      "0.357216522373\n"
     ]
    }
   ],
   "source": [
    "#printing the rsquare valuesof the 7 feature model\n",
    "print(nmdataFA.rsquared)\n",
    "print(nmdataCA.rsquared)\n",
    "print(nmdataRSR.rsquared)\n",
    "print(nmdataFSD.rsquared)\n",
    "print(nmdataDY.rsquared)\n",
    "\n",
    "\n"
   ]
  },
  {
   "cell_type": "code",
   "execution_count": 39,
   "metadata": {},
   "outputs": [
    {
     "name": "stdout",
     "output_type": "stream",
     "text": [
      "3162.67662805\n",
      "3160.77832765\n",
      "3162.02370304\n",
      "3156.97688013\n",
      "3162.59480833\n"
     ]
    }
   ],
   "source": [
    "#printing the aic values\n",
    "print(nmdataFA.aic)\n",
    "print(nmdataCA.aic)\n",
    "print(nmdataRSR.aic)\n",
    "print(nmdataFSD.aic)\n",
    "print(nmdataDY.aic)\n",
    "\n",
    "\n"
   ]
  },
  {
   "cell_type": "code",
   "execution_count": 40,
   "metadata": {},
   "outputs": [],
   "source": [
    "#8-feature model\n",
    "import statsmodels.formula.api as smf\n",
    "\n",
    "emdataFA=smf.ols(formula='quality ~ AL+VA+SS+TSD+CS+PH+FSD+FA', data=data1).fit()\n",
    "emdataCA=smf.ols(formula='quality ~ AL+VA+SS+TSD+CS+PH+FSD+CA', data=data1).fit()\n",
    "emdataRSR=smf.ols(formula='quality ~AL+VA+SS+TSD+CS+PH+FSD+ RSR', data=data1).fit()\n",
    "emdataDY=smf.ols(formula='quality ~ AL+VA+SS+TSD+CS+PH+FSD+DY', data=data1).fit()\n",
    "\n",
    "\n",
    "\n"
   ]
  },
  {
   "cell_type": "code",
   "execution_count": 41,
   "metadata": {},
   "outputs": [
    {
     "name": "stdout",
     "output_type": "stream",
     "text": [
      "Intercept    4.487827\n",
      "AL           0.289327\n",
      "VA          -1.013622\n",
      "SS           0.884010\n",
      "TSD         -0.003495\n",
      "CS          -2.024438\n",
      "PH          -0.495733\n",
      "FSD          0.005074\n",
      "FA          -0.001671\n",
      "dtype: float64\n",
      "Intercept    4.668088\n",
      "AL           0.292878\n",
      "VA          -1.073612\n",
      "SS           0.891428\n",
      "TSD         -0.003366\n",
      "CS          -1.949419\n",
      "PH          -0.549150\n",
      "FSD          0.004760\n",
      "CA          -0.129544\n",
      "dtype: float64\n",
      "Intercept    4.403138\n",
      "AL           0.288036\n",
      "VA          -1.014153\n",
      "SS           0.886328\n",
      "TSD         -0.003530\n",
      "CS          -2.033038\n",
      "PH          -0.475201\n",
      "FSD          0.004968\n",
      "RSR          0.007506\n",
      "dtype: float64\n",
      "Intercept    7.311265\n",
      "AL           0.286913\n",
      "VA          -1.011961\n",
      "SS           0.887986\n",
      "TSD         -0.003487\n",
      "CS          -2.020798\n",
      "PH          -0.490463\n",
      "FSD          0.005064\n",
      "DY          -2.842884\n",
      "dtype: float64\n"
     ]
    }
   ],
   "source": [
    "#printing the parameters\n",
    "print(emdataFA.params)\n",
    "print(emdataCA.params)\n",
    "print(emdataRSR.params)\n",
    "print(emdataDY.params)\n",
    "\n",
    "\n",
    "\n"
   ]
  },
  {
   "cell_type": "code",
   "execution_count": null,
   "metadata": {},
   "outputs": [],
   "source": []
  },
  {
   "cell_type": "code",
   "execution_count": 42,
   "metadata": {},
   "outputs": [
    {
     "name": "stdout",
     "output_type": "stream",
     "text": [
      "0.359477278853\n",
      "0.359926509089\n",
      "0.359630898729\n",
      "0.35950045737\n"
     ]
    }
   ],
   "source": [
    "#printing the r-square values\n",
    "print(emdataFA.rsquared)\n",
    "print(emdataCA.rsquared)\n",
    "print(emdataRSR.rsquared)\n",
    "print(emdataDY.rsquared)\n",
    "\n",
    "\n"
   ]
  },
  {
   "cell_type": "code",
   "execution_count": 43,
   "metadata": {},
   "outputs": [
    {
     "name": "stdout",
     "output_type": "stream",
     "text": [
      "3158.96099567\n",
      "3157.83914451\n",
      "3158.57745324\n",
      "3158.90313181\n"
     ]
    }
   ],
   "source": [
    "#printing the aic values\n",
    "print(emdataFA.aic)\n",
    "print(emdataCA.aic)\n",
    "print(emdataRSR.aic)\n",
    "print(emdataDY.aic)\n",
    "\n",
    "\n"
   ]
  },
  {
   "cell_type": "code",
   "execution_count": 44,
   "metadata": {},
   "outputs": [],
   "source": [
    "#checking the 9-feature model\n",
    "import statsmodels.formula.api as smf\n",
    "\n",
    "imdataFA=smf.ols(formula='quality ~ AL+VA+SS+TSD+CS+PH+FSD+CA+FA', data=data1).fit()\n",
    "imdataRSR=smf.ols(formula='quality ~AL+VA+SS+TSD+CS+PH+FSD+CA+ RSR', data=data1).fit()\n",
    "imdataDY=smf.ols(formula='quality ~ AL+VA+SS+TSD+CS+PH+FSD+CA+DY', data=data1).fit()\n",
    "\n",
    "\n",
    "\n"
   ]
  },
  {
   "cell_type": "code",
   "execution_count": 45,
   "metadata": {},
   "outputs": [
    {
     "name": "stdout",
     "output_type": "stream",
     "text": [
      "Intercept    4.441092\n",
      "AL           0.294021\n",
      "VA          -1.090580\n",
      "SS           0.887285\n",
      "TSD         -0.003256\n",
      "CS          -1.889307\n",
      "PH          -0.502233\n",
      "FSD          0.004666\n",
      "CA          -0.175650\n",
      "FA           0.009020\n",
      "dtype: float64\n",
      "Intercept    4.658318\n",
      "AL           0.291653\n",
      "VA          -1.081502\n",
      "SS           0.896900\n",
      "TSD         -0.003413\n",
      "CS          -1.961589\n",
      "PH          -0.546511\n",
      "FSD          0.004591\n",
      "CA          -0.142606\n",
      "RSR          0.009400\n",
      "dtype: float64\n",
      "Intercept    1.580688\n",
      "AL           0.295926\n",
      "VA          -1.082343\n",
      "SS           0.886803\n",
      "TSD         -0.003345\n",
      "CS          -1.937339\n",
      "PH          -0.549310\n",
      "FSD          0.004734\n",
      "CA          -0.146306\n",
      "DY           3.076761\n",
      "dtype: float64\n"
     ]
    }
   ],
   "source": [
    "# printing the paramters\n",
    "print(imdataFA.params)\n",
    "print(imdataRSR.params)\n",
    "print(imdataDY.params)\n",
    "\n",
    "\n",
    "\n"
   ]
  },
  {
   "cell_type": "code",
   "execution_count": 46,
   "metadata": {},
   "outputs": [
    {
     "name": "stdout",
     "output_type": "stream",
     "text": [
      "0.360054301222\n",
      "0.360172804471\n",
      "0.359953484268\n"
     ]
    }
   ],
   "source": [
    "#printing the r-sqaure values\n",
    "print(imdataFA.rsquared)\n",
    "print(imdataRSR.rsquared)\n",
    "print(imdataDY.rsquared)\n",
    "\n",
    "\n"
   ]
  },
  {
   "cell_type": "code",
   "execution_count": 47,
   "metadata": {},
   "outputs": [
    {
     "name": "stdout",
     "output_type": "stream",
     "text": [
      "3159.51986863\n",
      "3159.22374313\n",
      "3159.77175503\n"
     ]
    }
   ],
   "source": [
    "#printing the aic values\n",
    "print(imdataFA.aic)\n",
    "print(imdataRSR.aic)\n",
    "print(imdataDY.aic)\n",
    "\n",
    "\n"
   ]
  },
  {
   "cell_type": "markdown",
   "metadata": {},
   "source": [
    "#### The AIC Value of k+1 feature model is higher than the kfeature model at k=8 and therefore k=8 is the best regression model found with the attributes Alcohol,Volatile acidity,sulphates,total sulphur dioxide,chlorides,pH,free sulphur dioxide,citric acid"
   ]
  },
  {
   "cell_type": "code",
   "execution_count": 48,
   "metadata": {},
   "outputs": [
    {
     "ename": "SyntaxError",
     "evalue": "invalid syntax (<ipython-input-48-f72ede9dc8f7>, line 1)",
     "output_type": "error",
     "traceback": [
      "\u001b[0;36m  File \u001b[0;32m\"<ipython-input-48-f72ede9dc8f7>\"\u001b[0;36m, line \u001b[0;32m1\u001b[0m\n\u001b[0;31m    The coefficients included for each of the attrbutes are as mentioned\u001b[0m\n\u001b[0m                   ^\u001b[0m\n\u001b[0;31mSyntaxError\u001b[0m\u001b[0;31m:\u001b[0m invalid syntax\n"
     ]
    }
   ],
   "source": [
    "The coefficients included for each of the attrbutes are as mentioned\n",
    "AL           0.292878\n",
    "VA          -1.073612\n",
    "SS           0.891428\n",
    "TSD         -0.003366\n",
    "CS          -1.949419\n",
    "PH          -0.549150\n",
    "FSD          0.004760\n",
    "CA          -0.129544"
   ]
  },
  {
   "cell_type": "code",
   "execution_count": 49,
   "metadata": {},
   "outputs": [
    {
     "ename": "SyntaxError",
     "evalue": "invalid syntax (<ipython-input-49-9c77177ecc41>, line 1)",
     "output_type": "error",
     "traceback": [
      "\u001b[0;36m  File \u001b[0;32m\"<ipython-input-49-9c77177ecc41>\"\u001b[0;36m, line \u001b[0;32m1\u001b[0m\n\u001b[0;31m    The pvalues of the model are shown below\u001b[0m\n\u001b[0m              ^\u001b[0m\n\u001b[0;31mSyntaxError\u001b[0m\u001b[0;31m:\u001b[0m invalid syntax\n"
     ]
    }
   ],
   "source": [
    "The pvalues of the model are shown below"
   ]
  },
  {
   "cell_type": "code",
   "execution_count": 50,
   "metadata": {},
   "outputs": [
    {
     "data": {
      "text/plain": [
       "Intercept    2.062458e-23\n",
       "AL           2.637410e-60\n",
       "VA           6.385546e-20\n",
       "SS           1.188422e-15\n",
       "TSD          1.424683e-06\n",
       "CS           1.417497e-06\n",
       "PH           3.903038e-05\n",
       "FSD          2.670413e-02\n",
       "CA           2.875672e-01\n",
       "dtype: float64"
      ]
     },
     "execution_count": 50,
     "metadata": {},
     "output_type": "execute_result"
    }
   ],
   "source": [
    "emdataCA.pvalues"
   ]
  },
  {
   "cell_type": "code",
   "execution_count": 52,
   "metadata": {},
   "outputs": [],
   "source": [
    "from sklearn import linear_model\n",
    "from sklearn.metrics import mean_squared_error, r2_score"
   ]
  },
  {
   "cell_type": "code",
   "execution_count": 110,
   "metadata": {},
   "outputs": [],
   "source": [
    "datatest=data1[data1.columns[1:11]]"
   ]
  },
  {
   "cell_type": "code",
   "execution_count": 111,
   "metadata": {},
   "outputs": [
    {
     "name": "stdout",
     "output_type": "stream",
     "text": [
      "         VA    CA   RSR     CS   FSD    TSD       DY    PH    SS    AL\n",
      "0     0.700  0.00   1.9  0.076  11.0   34.0  0.99780  3.51  0.56   9.4\n",
      "1     0.880  0.00   2.6  0.098  25.0   67.0  0.99680  3.20  0.68   9.8\n",
      "2     0.760  0.04   2.3  0.092  15.0   54.0  0.99700  3.26  0.65   9.8\n",
      "3     0.280  0.56   1.9  0.075  17.0   60.0  0.99800  3.16  0.58   9.8\n",
      "4     0.700  0.00   1.9  0.076  11.0   34.0  0.99780  3.51  0.56   9.4\n",
      "5     0.660  0.00   1.8  0.075  13.0   40.0  0.99780  3.51  0.56   9.4\n",
      "6     0.600  0.06   1.6  0.069  15.0   59.0  0.99640  3.30  0.46   9.4\n",
      "7     0.650  0.00   1.2  0.065  15.0   21.0  0.99460  3.39  0.47  10.0\n",
      "8     0.580  0.02   2.0  0.073   9.0   18.0  0.99680  3.36  0.57   9.5\n",
      "9     0.500  0.36   6.1  0.071  17.0  102.0  0.99780  3.35  0.80  10.5\n",
      "10    0.580  0.08   1.8  0.097  15.0   65.0  0.99590  3.28  0.54   9.2\n",
      "11    0.500  0.36   6.1  0.071  17.0  102.0  0.99780  3.35  0.80  10.5\n",
      "12    0.615  0.00   1.6  0.089  16.0   59.0  0.99430  3.58  0.52   9.9\n",
      "13    0.610  0.29   1.6  0.114   9.0   29.0  0.99740  3.26  1.56   9.1\n",
      "14    0.620  0.18   3.8  0.176  52.0  145.0  0.99860  3.16  0.88   9.2\n",
      "15    0.620  0.19   3.9  0.170  51.0  148.0  0.99860  3.17  0.93   9.2\n",
      "16    0.280  0.56   1.8  0.092  35.0  103.0  0.99690  3.30  0.75  10.5\n",
      "17    0.560  0.28   1.7  0.368  16.0   56.0  0.99680  3.11  1.28   9.3\n",
      "18    0.590  0.08   4.4  0.086   6.0   29.0  0.99740  3.38  0.50   9.0\n",
      "19    0.320  0.51   1.8  0.341  17.0   56.0  0.99690  3.04  1.08   9.2\n",
      "20    0.220  0.48   1.8  0.077  29.0   60.0  0.99680  3.39  0.53   9.4\n",
      "21    0.390  0.31   2.3  0.082  23.0   71.0  0.99820  3.52  0.65   9.7\n",
      "22    0.430  0.21   1.6  0.106  10.0   37.0  0.99660  3.17  0.91   9.5\n",
      "23    0.490  0.11   2.3  0.084   9.0   67.0  0.99680  3.17  0.53   9.4\n",
      "24    0.400  0.14   2.4  0.085  21.0   40.0  0.99680  3.43  0.63   9.7\n",
      "25    0.390  0.16   1.4  0.080  11.0   23.0  0.99550  3.34  0.56   9.3\n",
      "26    0.410  0.24   1.8  0.080   4.0   11.0  0.99620  3.28  0.59   9.5\n",
      "27    0.430  0.21   1.6  0.106  10.0   37.0  0.99660  3.17  0.91   9.5\n",
      "28    0.710  0.00   1.9  0.080  14.0   35.0  0.99720  3.47  0.55   9.4\n",
      "29    0.645  0.00   2.0  0.082   8.0   16.0  0.99640  3.38  0.59   9.8\n",
      "...     ...   ...   ...    ...   ...    ...      ...   ...   ...   ...\n",
      "1569  0.510  0.14   1.9  0.056  15.0   34.0  0.99396  3.48  0.57  11.5\n",
      "1570  0.360  0.53   2.2  0.230  19.0   35.0  0.99340  3.37  0.93  12.4\n",
      "1571  0.380  0.14   2.2  0.038  15.0   25.0  0.99514  3.44  0.65  11.1\n",
      "1572  0.690  0.32   2.2  0.069  35.0  104.0  0.99632  3.33  0.51   9.5\n",
      "1573  0.580  0.20   2.4  0.075  15.0   50.0  0.99467  3.58  0.67  12.5\n",
      "1574  0.310  0.78  13.9  0.074  23.0   92.0  0.99677  3.39  0.48  10.5\n",
      "1575  0.520  0.40   2.2  0.060  12.0   20.0  0.99474  3.26  0.64  11.8\n",
      "1576  0.300  0.63   1.6  0.081  16.0   29.0  0.99588  3.30  0.78  10.8\n",
      "1577  0.700  0.15   5.1  0.076  13.0   27.0  0.99622  3.54  0.60  11.9\n",
      "1578  0.670  0.15   1.8  0.118  13.0   20.0  0.99540  3.42  0.67  11.3\n",
      "1579  0.560  0.09   1.7  0.053  24.0   32.0  0.99402  3.54  0.60  11.3\n",
      "1580  0.350  0.33   2.4  0.068   9.0   26.0  0.99470  3.36  0.60  11.9\n",
      "1581  0.560  0.09   1.7  0.053  24.0   32.0  0.99402  3.54  0.60  11.3\n",
      "1582  0.715  0.10   2.6  0.053  13.0   27.0  0.99362  3.57  0.50  11.9\n",
      "1583  0.460  0.29   2.1  0.074  32.0   98.0  0.99578  3.33  0.62   9.8\n",
      "1584  0.320  0.44   2.4  0.061  24.0   34.0  0.99484  3.29  0.80  11.6\n",
      "1585  0.390  0.44   2.6  0.066  22.0   48.0  0.99494  3.30  0.84  11.5\n",
      "1586  0.310  0.41   2.4  0.065  34.0   60.0  0.99492  3.34  0.85  11.4\n",
      "1587  0.610  0.11   1.8  0.066  18.0   28.0  0.99483  3.55  0.66  10.9\n",
      "1588  0.660  0.33   2.5  0.068  34.0  102.0  0.99414  3.27  0.78  12.8\n",
      "1589  0.725  0.20   7.8  0.073  29.0   79.0  0.99770  3.29  0.54   9.2\n",
      "1590  0.550  0.15   1.8  0.077  26.0   35.0  0.99314  3.32  0.82  11.6\n",
      "1591  0.740  0.09   1.7  0.089  16.0   26.0  0.99402  3.67  0.56  11.6\n",
      "1592  0.510  0.13   2.3  0.076  29.0   40.0  0.99574  3.42  0.75  11.0\n",
      "1593  0.620  0.08   1.9  0.068  28.0   38.0  0.99651  3.42  0.82   9.5\n",
      "1594  0.600  0.08   2.0  0.090  32.0   44.0  0.99490  3.45  0.58  10.5\n",
      "1595  0.550  0.10   2.2  0.062  39.0   51.0  0.99512  3.52  0.76  11.2\n",
      "1596  0.510  0.13   2.3  0.076  29.0   40.0  0.99574  3.42  0.75  11.0\n",
      "1597  0.645  0.12   2.0  0.075  32.0   44.0  0.99547  3.57  0.71  10.2\n",
      "1598  0.310  0.47   3.6  0.067  18.0   42.0  0.99549  3.39  0.66  11.0\n",
      "\n",
      "[1599 rows x 10 columns]\n"
     ]
    }
   ],
   "source": [
    "print(datatest)"
   ]
  },
  {
   "cell_type": "code",
   "execution_count": 117,
   "metadata": {},
   "outputs": [
    {
     "name": "stdout",
     "output_type": "stream",
     "text": [
      "0       5.031063\n",
      "1       5.144855\n",
      "2       5.216666\n",
      "3       5.679617\n",
      "4       5.031063\n",
      "5       5.065283\n",
      "6       5.105372\n",
      "7       5.330380\n",
      "8       5.328061\n",
      "9       5.632555\n",
      "10      5.073196\n",
      "11      5.632555\n",
      "12      5.108975\n",
      "13      5.964204\n",
      "14      5.139137\n",
      "15      5.173760\n",
      "16      5.867106\n",
      "17      5.357820\n",
      "18      5.013084\n",
      "19      5.473953\n",
      "20      5.519593\n",
      "21      5.407215\n",
      "22      5.748393\n",
      "23      5.266053\n",
      "24      5.539068\n",
      "25      5.436450\n",
      "26      5.529950\n",
      "27      5.748393\n",
      "28      5.036496\n",
      "29      5.340003\n",
      "          ...   \n",
      "1569    5.915375\n",
      "1570    6.347281\n",
      "1571    6.096455\n",
      "1572    4.976191\n",
      "1573    6.068663\n",
      "1574    5.531280\n",
      "1575    6.167077\n",
      "1576    6.131243\n",
      "1577    5.796090\n",
      "1578    5.722555\n",
      "1579    5.858811\n",
      "1580    6.247304\n",
      "1581    5.858811\n",
      "1582    5.725683\n",
      "1583    5.409096\n",
      "1584    6.452247\n",
      "1585    6.311583\n",
      "1586    6.377700\n",
      "1587    5.692942\n",
      "1588    6.251157\n",
      "1589    4.962792\n",
      "1590    6.219202\n",
      "1591    5.558312\n",
      "1592    5.971096\n",
      "1593    5.500126\n",
      "1594    5.540017\n",
      "1595    5.982482\n",
      "1596    5.971096\n",
      "1597    5.477888\n",
      "1598    6.036471\n",
      "Length: 1599, dtype: float64\n"
     ]
    }
   ],
   "source": [
    "datatestquality = emdataCA.predict(datatest)\n",
    "print(datatestquality)"
   ]
  },
  {
   "cell_type": "code",
   "execution_count": 118,
   "metadata": {},
   "outputs": [
    {
     "data": {
      "image/png": "[encoded data removed]",
      "text/plain": [
       "<matplotlib.figure.Figure at 0x2aae11accba8>"
      ]
     },
     "metadata": {},
     "output_type": "display_data"
    }
   ],
   "source": [
    "#plotting the data for finding the noise points\n",
    "plt.scatter(data1.quality,datatestquality)\n",
    "plt.show()"
   ]
  },
  {
   "cell_type": "code",
   "execution_count": null,
   "metadata": {},
   "outputs": [],
   "source": []
  },
  {
   "cell_type": "code",
   "execution_count": null,
   "metadata": {},
   "outputs": [],
   "source": []
  },
  {
   "cell_type": "code",
   "execution_count": null,
   "metadata": {},
   "outputs": [],
   "source": []
  }
 ],
 "metadata": {
  "kernelspec": {
   "display_name": "Python 3.6 [python/3.6]",
   "language": "python",
   "name": "sys_python36"
  },
  "language_info": {
   "codemirror_mode": {
    "name": "ipython",
    "version": 3
   },
   "file_extension": ".py",
   "mimetype": "text/x-python",
   "name": "python",
   "nbconvert_exporter": "python",
   "pygments_lexer": "ipython3",
   "version": "3.6.3"
  }
 },
 "nbformat": 4,
 "nbformat_minor": 2
}
